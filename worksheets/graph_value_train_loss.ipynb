{
 "cells": [
  {
   "cell_type": "code",
   "execution_count": 30,
   "id": "hindu-february",
   "metadata": {},
   "outputs": [],
   "source": [
    "import torch\n",
    "import tensorboard as tb\n",
    "import pandas as pd\n",
    "import matplotlib.pyplot as plt\n",
    "import matplotlib.style as style\n",
    "import seaborn as sns\n",
    "\n",
    "style.use('ggplot')\n",
    "plt.rcParams[\"axes.edgecolor\"] = \"black\"\n",
    "plt.rcParams[\"axes.linewidth\"] = 1\n",
    "plt.rcParams[\"axes.labelweight\"] = \"bold\"\n",
    "plt.rcParams['axes.grid'] = True\n",
    "plt.rcParams['grid.alpha'] = 1\n",
    "plt.rcParams['grid.color'] = \"#cccccc\""
   ]
  },
  {
   "cell_type": "code",
   "execution_count": 31,
   "id": "specific-biotechnology",
   "metadata": {},
   "outputs": [
    {
     "data": {
      "text/html": [
       "<div>\n",
       "<style scoped>\n",
       "    .dataframe tbody tr th:only-of-type {\n",
       "        vertical-align: middle;\n",
       "    }\n",
       "\n",
       "    .dataframe tbody tr th {\n",
       "        vertical-align: top;\n",
       "    }\n",
       "\n",
       "    .dataframe thead th {\n",
       "        text-align: right;\n",
       "    }\n",
       "</style>\n",
       "<table border=\"1\" class=\"dataframe\">\n",
       "  <thead>\n",
       "    <tr style=\"text-align: right;\">\n",
       "      <th></th>\n",
       "      <th>Wall time</th>\n",
       "      <th>Epoch</th>\n",
       "      <th>Loss</th>\n",
       "      <th>Run</th>\n",
       "    </tr>\n",
       "  </thead>\n",
       "  <tbody>\n",
       "    <tr>\n",
       "      <th>0</th>\n",
       "      <td>1.616888e+09</td>\n",
       "      <td>0</td>\n",
       "      <td>0.079162</td>\n",
       "      <td>Train</td>\n",
       "    </tr>\n",
       "    <tr>\n",
       "      <th>1</th>\n",
       "      <td>1.616888e+09</td>\n",
       "      <td>1</td>\n",
       "      <td>0.014763</td>\n",
       "      <td>Train</td>\n",
       "    </tr>\n",
       "    <tr>\n",
       "      <th>2</th>\n",
       "      <td>1.616888e+09</td>\n",
       "      <td>2</td>\n",
       "      <td>0.014928</td>\n",
       "      <td>Train</td>\n",
       "    </tr>\n",
       "    <tr>\n",
       "      <th>3</th>\n",
       "      <td>1.616888e+09</td>\n",
       "      <td>3</td>\n",
       "      <td>0.013971</td>\n",
       "      <td>Train</td>\n",
       "    </tr>\n",
       "    <tr>\n",
       "      <th>4</th>\n",
       "      <td>1.616888e+09</td>\n",
       "      <td>4</td>\n",
       "      <td>0.011923</td>\n",
       "      <td>Train</td>\n",
       "    </tr>\n",
       "    <tr>\n",
       "      <th>...</th>\n",
       "      <td>...</td>\n",
       "      <td>...</td>\n",
       "      <td>...</td>\n",
       "      <td>...</td>\n",
       "    </tr>\n",
       "    <tr>\n",
       "      <th>95</th>\n",
       "      <td>1.616888e+09</td>\n",
       "      <td>45</td>\n",
       "      <td>0.012189</td>\n",
       "      <td>Validate</td>\n",
       "    </tr>\n",
       "    <tr>\n",
       "      <th>96</th>\n",
       "      <td>1.616888e+09</td>\n",
       "      <td>46</td>\n",
       "      <td>0.008437</td>\n",
       "      <td>Validate</td>\n",
       "    </tr>\n",
       "    <tr>\n",
       "      <th>97</th>\n",
       "      <td>1.616888e+09</td>\n",
       "      <td>47</td>\n",
       "      <td>0.009539</td>\n",
       "      <td>Validate</td>\n",
       "    </tr>\n",
       "    <tr>\n",
       "      <th>98</th>\n",
       "      <td>1.616888e+09</td>\n",
       "      <td>48</td>\n",
       "      <td>0.010227</td>\n",
       "      <td>Validate</td>\n",
       "    </tr>\n",
       "    <tr>\n",
       "      <th>99</th>\n",
       "      <td>1.616888e+09</td>\n",
       "      <td>49</td>\n",
       "      <td>0.013101</td>\n",
       "      <td>Validate</td>\n",
       "    </tr>\n",
       "  </tbody>\n",
       "</table>\n",
       "<p>100 rows × 4 columns</p>\n",
       "</div>"
      ],
      "text/plain": [
       "       Wall time  Epoch      Loss       Run\n",
       "0   1.616888e+09      0  0.079162     Train\n",
       "1   1.616888e+09      1  0.014763     Train\n",
       "2   1.616888e+09      2  0.014928     Train\n",
       "3   1.616888e+09      3  0.013971     Train\n",
       "4   1.616888e+09      4  0.011923     Train\n",
       "..           ...    ...       ...       ...\n",
       "95  1.616888e+09     45  0.012189  Validate\n",
       "96  1.616888e+09     46  0.008437  Validate\n",
       "97  1.616888e+09     47  0.009539  Validate\n",
       "98  1.616888e+09     48  0.010227  Validate\n",
       "99  1.616888e+09     49  0.013101  Validate\n",
       "\n",
       "[100 rows x 4 columns]"
      ]
     },
     "execution_count": 31,
     "metadata": {},
     "output_type": "execute_result"
    }
   ],
   "source": [
    "# Import data from tensorboard logs\n",
    "df_train = pd.read_csv('../data/run-train_val_train-tag-total_loss.csv')\n",
    "df_train['Run'] = 'Train'\n",
    "\n",
    "df_test = pd.read_csv('../data/run-train_val_test-tag-total_loss.csv')\n",
    "df_test['Run'] = 'Validate'\n",
    "\n",
    "df_all = df_train.append(df_test, ignore_index=True)\n",
    "df_all = df_all.rename(columns={'Step': 'Epoch', 'Value': 'Loss'})\n",
    "df_all"
   ]
  },
  {
   "cell_type": "code",
   "execution_count": 32,
   "id": "cooperative-printer",
   "metadata": {},
   "outputs": [],
   "source": [
    "# Smoothing\n",
    "SMOOTHING_CONSTANT = 0.6\n",
    "df_all_smooth = df_all.copy(deep=True)\n",
    "for i in range(1, 49):\n",
    "    df_all_smooth.at[i, 'Loss'] = SMOOTHING_CONSTANT*df_all_smooth.at[i-1, 'Loss'] + (1-SMOOTHING_CONSTANT)*df_all_smooth.at[i, 'Loss']\n",
    "for i in range(51, 99):\n",
    "    df_all_smooth.at[i, 'Loss'] = SMOOTHING_CONSTANT*df_all_smooth.at[i-1, 'Loss'] + (1-SMOOTHING_CONSTANT)*df_all_smooth.at[i, 'Loss']"
   ]
  },
  {
   "cell_type": "code",
   "execution_count": 39,
   "id": "noble-pharmaceutical",
   "metadata": {},
   "outputs": [
    {
     "data": {
      "image/png": "[encoded data removed]",
      "text/plain": [
       "<Figure size 432x288 with 1 Axes>"
      ]
     },
     "metadata": {},
     "output_type": "display_data"
    }
   ],
   "source": [
    "line_plot = sns.lineplot(data=df_all_smooth, x=\"Epoch\", y=\"Loss\", hue=\"Run\").set_title(\"Value Function Training Loss\")"
   ]
  },
  {
   "cell_type": "code",
   "execution_count": 41,
   "id": "cultural-neighborhood",
   "metadata": {},
   "outputs": [],
   "source": [
    "fig = line_plot.get_figure()\n",
    "fig.savefig('../img/value_fnc_train_loss.png', format='png', dpi=1200)"
   ]
  },
  {
   "cell_type": "code",
   "execution_count": null,
   "id": "headed-soccer",
   "metadata": {},
   "outputs": [],
   "source": []
  }
 ],
 "metadata": {
  "kernelspec": {
   "display_name": "deep-learning",
   "language": "python",
   "name": "deep-learning"
  },
  "language_info": {
   "codemirror_mode": {
    "name": "ipython",
    "version": 3
   },
   "file_extension": ".py",
   "mimetype": "text/x-python",
   "name": "python",
   "nbconvert_exporter": "python",
   "pygments_lexer": "ipython3",
   "version": "3.7.10"
  }
 },
 "nbformat": 4,
 "nbformat_minor": 5
}
